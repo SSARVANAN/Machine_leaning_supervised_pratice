{
 "cells": [
  {
   "cell_type": "code",
   "execution_count": null,
   "metadata": {},
   "outputs": [],
   "source": [
    "import pandas as pd\n",
    "\n",
    "ames_housing = pd.read_csv(\"../datasets/ames_housing_no_missing.csv\")\n",
    "target_name = \"SalePrice\"\n",
    "data = ames_housing.drop(columns=target_name)\n",
    "target = ames_housing[target_name]"
   ]
  },
  {
   "cell_type": "code",
   "execution_count": null,
   "metadata": {},
   "outputs": [],
   "source": [
    "numerical_features = [\n",
    "    \"LotFrontage\", \"LotArea\", \"MasVnrArea\", \"BsmtFinSF1\", \"BsmtFinSF2\",\n",
    "    \"BsmtUnfSF\", \"TotalBsmtSF\", \"1stFlrSF\", \"2ndFlrSF\", \"LowQualFinSF\",\n",
    "    \"GrLivArea\", \"BedroomAbvGr\", \"KitchenAbvGr\", \"TotRmsAbvGrd\", \"Fireplaces\",\n",
    "    \"GarageCars\", \"GarageArea\", \"WoodDeckSF\", \"OpenPorchSF\", \"EnclosedPorch\",\n",
    "    \"3SsnPorch\", \"ScreenPorch\", \"PoolArea\", \"MiscVal\",\n",
    "]\n",
    "\n",
    "data_numerical = data[numerical_features]"
   ]
  },
  {
   "cell_type": "code",
   "execution_count": null,
   "metadata": {},
   "outputs": [],
   "source": [
    "from sklearn.preprocessing import StandardScaler\n",
    "from sklearn.linear_model import Ridge\n",
    "from sklearn.pipeline import make_pipeline\n",
    "from sklearn.model_selection import cross_validate\n",
    "\n",
    "model = make_pipeline(StandardScaler(), Ridge(alpha=0))\n",
    "cv_results = cross_validate(\n",
    "    model, data_numerical, target, cv=10, return_estimator=True\n",
    ")\n",
    "coefs = [pipeline[-1].coef_ for pipeline in cv_results[\"estimator\"]]\n",
    "coefs = pd.DataFrame(coefs, columns=numerical_features)\n",
    "coefs.describe().loc[[\"min\", \"max\"]]"
   ]
  },
  {
   "cell_type": "code",
   "execution_count": null,
   "metadata": {},
   "outputs": [],
   "source": [
    "\n",
    "from sklearn.linear_model import Ridge\n",
    "\n",
    "model = make_pipeline(StandardScaler(), Ridge(alpha=1.0))\n",
    "cv_results = cross_validate(\n",
    "    model, data_numerical, target, cv=10, return_estimator=True\n",
    ")\n",
    "\n",
    "coefs = [pipeline[-1].coef_ for pipeline in cv_results[\"estimator\"]]\n",
    "coefs = pd.DataFrame(coefs, columns=numerical_features)\n",
    "coefs.describe().loc[[\"min\", \"max\"]]"
   ]
  },
  {
   "cell_type": "code",
   "execution_count": null,
   "metadata": {},
   "outputs": [],
   "source": []
  },
  {
   "cell_type": "code",
   "execution_count": null,
   "metadata": {},
   "outputs": [],
   "source": [
    "column_to_drop = \"GarageArea\"\n",
    "data_numerical = data_numerical.drop(columns=column_to_drop)\n",
    "\n",
    "cv_results = cross_validate(\n",
    "    model, data_numerical, target, cv=10, return_estimator=True\n",
    ")\n",
    "coefs = [pipeline[-1].coef_ for pipeline in cv_results[\"estimator\"]]\n",
    "coefs = pd.DataFrame(coefs, columns=data_numerical.columns)\n",
    "coefs[\"GarageCars\"].std()"
   ]
  },
  {
   "cell_type": "code",
   "execution_count": null,
   "metadata": {},
   "outputs": [],
   "source": [
    "import numpy as np\n",
    "from sklearn.linear_model import RidgeCV\n",
    "\n",
    "alphas = np.logspace(-3, 3, num=101)\n",
    "model = make_pipeline(StandardScaler(), RidgeCV(alphas=alphas))\n",
    "cv_results_num_only = cross_validate(\n",
    "    model, data_numerical, target, cv=10, return_estimator=True\n",
    ")\n",
    "test_score_num_only = cv_results_num_only[\"test_score\"]  # save it for later\n",
    "\n",
    "coefs = [pipeline[-1].coef_ for pipeline in cv_results_num_only[\"estimator\"]]\n",
    "coefs = pd.DataFrame(coefs, columns=data_numerical.columns)\n",
    "coefs[\"GarageCars\"].std()"
   ]
  },
  {
   "cell_type": "code",
   "execution_count": null,
   "metadata": {},
   "outputs": [],
   "source": [
    "tuned_alphas = [pipeline[-1].alpha_ for pipeline in cv_results_num_only[\"estimator\"]]\n",
    "tuned_alphas"
   ]
  },
  {
   "cell_type": "code",
   "execution_count": null,
   "metadata": {},
   "outputs": [],
   "source": [
    "from sklearn.compose import make_column_selector as selector\n",
    "from sklearn.compose import make_column_transformer\n",
    "from sklearn.preprocessing import OneHotEncoder\n",
    "\n",
    "categorical_features = selector(dtype_include=object)(data)\n",
    "numerical_features.remove(\"GarageArea\")\n",
    "\n",
    "preprocessor = make_column_transformer(\n",
    "    (OneHotEncoder(handle_unknown=\"ignore\"), categorical_features),\n",
    "    (StandardScaler(), numerical_features),\n",
    ")\n",
    "model = make_pipeline(preprocessor, RidgeCV(alphas=alphas))\n",
    "cv_results_num_and_cat = cross_validate(\n",
    "    model, data, target, cv=10, n_jobs=2\n",
    ")\n",
    "test_score_num_and_cat = cv_results_num_and_cat[\"test_score\"]\n",
    "\n",
    "indices = np.arange(len(test_score_num_only))\n",
    "plt.scatter(\n",
    "    indices,\n",
    "    test_score_num_only,\n",
    "    color=\"tab:blue\",\n",
    "    label=\"numerical features only\"\n",
    ")\n",
    "plt.scatter(\n",
    "    indices,\n",
    "    test_score_num_and_cat,\n",
    "    color=\"tab:red\",\n",
    "    label=\"all features\",\n",
    ")\n",
    "plt.ylim((0, 1))\n",
    "plt.xlabel(\"Cross-validation iteration\")\n",
    "plt.ylabel(\"R2 score\")\n",
    "_ = plt.legend(bbox_to_anchor=(1.05, 1), loc=\"upper left\")\n",
    "\n",
    "print(\n",
    "    \"A model using both numerical and categorical features is better than a\"\n",
    "    \" model using only numerical features for\"\n",
    "    f\" {sum(test_score_num_and_cat > test_score_num_only)} CV iterations out of 10.\"\n",
    ")"
   ]
  },
  {
   "cell_type": "code",
   "execution_count": null,
   "metadata": {},
   "outputs": [],
   "source": [
    "from sklearn.kernel_approximation import Nystroem\n",
    "from sklearn.preprocessing import SplineTransformer\n",
    "\n",
    "\n",
    "preprocessor = make_column_transformer(\n",
    "    (OneHotEncoder(handle_unknown=\"ignore\"), categorical_features),\n",
    "    (SplineTransformer(), numerical_features),\n",
    ")\n",
    "\n",
    "model_with_interaction = make_pipeline(\n",
    "    preprocessor,\n",
    "    Nystroem(kernel=\"poly\", degree=2, n_components=300),\n",
    "    RidgeCV(alphas=alphas)\n",
    ")\n",
    "cv_results_interactions = cross_validate(\n",
    "    model_with_interaction,\n",
    "    data,\n",
    "    target,\n",
    "    cv=10,\n",
    "    n_jobs=2,\n",
    ")\n",
    "test_score_interactions = cv_results_interactions[\"test_score\"]\n",
    "\n",
    "plt.scatter(\n",
    "    indices,\n",
    "    test_score_num_only,\n",
    "    color=\"tab:blue\",\n",
    "    label=\"numerical features only\"\n",
    ")\n",
    "plt.scatter(\n",
    "    indices,\n",
    "    test_score_num_and_cat,\n",
    "    color=\"tab:red\",\n",
    "    label=\"all features\",\n",
    ")\n",
    "plt.scatter(\n",
    "    indices,\n",
    "    test_score_interactions,\n",
    "    color=\"black\",\n",
    "    label=\"all features and interactions\",\n",
    ")\n",
    "plt.ylim((0, 1))\n",
    "plt.xlabel(\"Cross-validation iteration\")\n",
    "plt.ylabel(\"R2 Score\")\n",
    "_ = plt.legend(bbox_to_anchor=(1.05, 1), loc=\"upper left\")\n",
    "\n",
    "print(\n",
    "    \"A model using all features with non-linear feature engineering is better\"\n",
    "    \"  than the previous pipeline for\"\n",
    "    f\" {sum(test_score_interactions > test_score_num_and_cat)} CV iterations\"\n",
    "    \" out of 10.\"\n",
    ")"
   ]
  },
  {
   "cell_type": "code",
   "execution_count": null,
   "metadata": {},
   "outputs": [],
   "source": [
    "\n"
   ]
  },
  {
   "cell_type": "code",
   "execution_count": null,
   "metadata": {},
   "outputs": [],
   "source": [
    "\n",
    "  "
   ]
  },
  {
   "cell_type": "code",
   "execution_count": null,
   "metadata": {},
   "outputs": [],
   "source": []
  }
 ],
 "metadata": {
  "kernelspec": {
   "display_name": "Python 3 (ipykernel)",
   "language": "python",
   "name": "python3"
  },
  "language_info": {
   "codemirror_mode": {
    "name": "ipython",
    "version": 3
   },
   "file_extension": ".py",
   "mimetype": "text/x-python",
   "name": "python",
   "nbconvert_exporter": "python",
   "pygments_lexer": "ipython3",
   "version": "3.11.4"
  }
 },
 "nbformat": 4,
 "nbformat_minor": 4
}
