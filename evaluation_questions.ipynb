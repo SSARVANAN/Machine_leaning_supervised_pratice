{
 "cells": [
  {
   "cell_type": "code",
   "execution_count": 1,
   "metadata": {},
   "outputs": [
    {
     "data": {
      "text/html": [
       "<div>\n",
       "<style scoped>\n",
       "    .dataframe tbody tr th:only-of-type {\n",
       "        vertical-align: middle;\n",
       "    }\n",
       "\n",
       "    .dataframe tbody tr th {\n",
       "        vertical-align: top;\n",
       "    }\n",
       "\n",
       "    .dataframe thead th {\n",
       "        text-align: right;\n",
       "    }\n",
       "</style>\n",
       "<table border=\"1\" class=\"dataframe\">\n",
       "  <thead>\n",
       "    <tr style=\"text-align: right;\">\n",
       "      <th></th>\n",
       "      <th>heart-rate</th>\n",
       "      <th>cadence</th>\n",
       "      <th>speed</th>\n",
       "      <th>acceleration</th>\n",
       "      <th>slope</th>\n",
       "    </tr>\n",
       "    <tr>\n",
       "      <th></th>\n",
       "      <th></th>\n",
       "      <th></th>\n",
       "      <th></th>\n",
       "      <th></th>\n",
       "      <th></th>\n",
       "    </tr>\n",
       "  </thead>\n",
       "  <tbody>\n",
       "    <tr>\n",
       "      <th>2020-08-18 14:43:19</th>\n",
       "      <td>102.0</td>\n",
       "      <td>64.0</td>\n",
       "      <td>4.325</td>\n",
       "      <td>0.0880</td>\n",
       "      <td>-0.033870</td>\n",
       "    </tr>\n",
       "    <tr>\n",
       "      <th>2020-08-18 14:43:20</th>\n",
       "      <td>103.0</td>\n",
       "      <td>64.0</td>\n",
       "      <td>4.336</td>\n",
       "      <td>0.0842</td>\n",
       "      <td>-0.033571</td>\n",
       "    </tr>\n",
       "    <tr>\n",
       "      <th>2020-08-18 14:43:21</th>\n",
       "      <td>105.0</td>\n",
       "      <td>66.0</td>\n",
       "      <td>4.409</td>\n",
       "      <td>0.0234</td>\n",
       "      <td>-0.033223</td>\n",
       "    </tr>\n",
       "    <tr>\n",
       "      <th>2020-08-18 14:43:22</th>\n",
       "      <td>106.0</td>\n",
       "      <td>66.0</td>\n",
       "      <td>4.445</td>\n",
       "      <td>0.0016</td>\n",
       "      <td>-0.032908</td>\n",
       "    </tr>\n",
       "    <tr>\n",
       "      <th>2020-08-18 14:43:23</th>\n",
       "      <td>106.0</td>\n",
       "      <td>67.0</td>\n",
       "      <td>4.441</td>\n",
       "      <td>0.1144</td>\n",
       "      <td>0.000000</td>\n",
       "    </tr>\n",
       "    <tr>\n",
       "      <th>...</th>\n",
       "      <td>...</td>\n",
       "      <td>...</td>\n",
       "      <td>...</td>\n",
       "      <td>...</td>\n",
       "      <td>...</td>\n",
       "    </tr>\n",
       "    <tr>\n",
       "      <th>2020-09-13 14:55:57</th>\n",
       "      <td>130.0</td>\n",
       "      <td>0.0</td>\n",
       "      <td>1.054</td>\n",
       "      <td>0.0234</td>\n",
       "      <td>0.000000</td>\n",
       "    </tr>\n",
       "    <tr>\n",
       "      <th>2020-09-13 14:55:58</th>\n",
       "      <td>130.0</td>\n",
       "      <td>0.0</td>\n",
       "      <td>0.829</td>\n",
       "      <td>0.0258</td>\n",
       "      <td>0.000000</td>\n",
       "    </tr>\n",
       "    <tr>\n",
       "      <th>2020-09-13 14:55:59</th>\n",
       "      <td>129.0</td>\n",
       "      <td>0.0</td>\n",
       "      <td>0.616</td>\n",
       "      <td>-0.1686</td>\n",
       "      <td>0.000000</td>\n",
       "    </tr>\n",
       "    <tr>\n",
       "      <th>2020-09-13 14:56:00</th>\n",
       "      <td>130.0</td>\n",
       "      <td>0.0</td>\n",
       "      <td>0.000</td>\n",
       "      <td>-0.4284</td>\n",
       "      <td>0.000000</td>\n",
       "    </tr>\n",
       "    <tr>\n",
       "      <th>2020-09-13 14:56:01</th>\n",
       "      <td>130.0</td>\n",
       "      <td>0.0</td>\n",
       "      <td>0.000</td>\n",
       "      <td>-0.3096</td>\n",
       "      <td>0.000000</td>\n",
       "    </tr>\n",
       "  </tbody>\n",
       "</table>\n",
       "<p>38254 rows × 5 columns</p>\n",
       "</div>"
      ],
      "text/plain": [
       "                     heart-rate  cadence  speed  acceleration     slope\n",
       "                                                                       \n",
       "2020-08-18 14:43:19       102.0     64.0  4.325        0.0880 -0.033870\n",
       "2020-08-18 14:43:20       103.0     64.0  4.336        0.0842 -0.033571\n",
       "2020-08-18 14:43:21       105.0     66.0  4.409        0.0234 -0.033223\n",
       "2020-08-18 14:43:22       106.0     66.0  4.445        0.0016 -0.032908\n",
       "2020-08-18 14:43:23       106.0     67.0  4.441        0.1144  0.000000\n",
       "...                         ...      ...    ...           ...       ...\n",
       "2020-09-13 14:55:57       130.0      0.0  1.054        0.0234  0.000000\n",
       "2020-09-13 14:55:58       130.0      0.0  0.829        0.0258  0.000000\n",
       "2020-09-13 14:55:59       129.0      0.0  0.616       -0.1686  0.000000\n",
       "2020-09-13 14:56:00       130.0      0.0  0.000       -0.4284  0.000000\n",
       "2020-09-13 14:56:01       130.0      0.0  0.000       -0.3096  0.000000\n",
       "\n",
       "[38254 rows x 5 columns]"
      ]
     },
     "execution_count": 1,
     "metadata": {},
     "output_type": "execute_result"
    }
   ],
   "source": [
    "import pandas as pd\n",
    "\n",
    "cycling = pd.read_csv(\"../datasets/bike_rides.csv\", index_col=0,\n",
    "                      parse_dates=True)\n",
    "cycling.index.name = \"\"\n",
    "target_name = \"power\"\n",
    "data, target = cycling.drop(columns=target_name), cycling[target_name]\n",
    "data"
   ]
  },
  {
   "cell_type": "code",
   "execution_count": 2,
   "metadata": {},
   "outputs": [
    {
     "data": {
      "text/plain": [
       "-0.002709709612566326"
      ]
     },
     "execution_count": 2,
     "metadata": {},
     "output_type": "execute_result"
    }
   ],
   "source": [
    "import numpy as np\n",
    "\n",
    "# build the data matrix\n",
    "data_linear_model = pd.concat(\n",
    "    {\"speed^3\": data[\"speed\"] ** 3,\n",
    "     \"speed\": data[\"speed\"],\n",
    "     \"speed*sin(alpha)\": data[\"speed\"] * np.sin(np.arctan(data[\"slope\"])),\n",
    "     \"speed*acceleration\": data[\"speed\"] * data[\"acceleration\"].clip(lower=0)},\n",
    "    axis=1\n",
    ")\n",
    "data_linear_model.mean()[\"speed*sin(alpha)\"]"
   ]
  },
  {
   "cell_type": "code",
   "execution_count": 3,
   "metadata": {},
   "outputs": [
    {
     "ename": "NameError",
     "evalue": "name 'cv_results_linear_model' is not defined",
     "output_type": "error",
     "traceback": [
      "\u001b[0;31m---------------------------------------------------------------------------\u001b[0m",
      "\u001b[0;31mNameError\u001b[0m                                 Traceback (most recent call last)",
      "Cell \u001b[0;32mIn[3], line 3\u001b[0m\n\u001b[1;32m      1\u001b[0m \u001b[38;5;28;01mimport\u001b[39;00m \u001b[38;5;21;01mmatplotlib\u001b[39;00m\u001b[38;5;21;01m.\u001b[39;00m\u001b[38;5;21;01mpyplot\u001b[39;00m \u001b[38;5;28;01mas\u001b[39;00m \u001b[38;5;21;01mplt\u001b[39;00m\n\u001b[1;32m      2\u001b[0m coefs \u001b[38;5;241m=\u001b[39m [\n\u001b[0;32m----> 3\u001b[0m     estimator[\u001b[38;5;241m-\u001b[39m\u001b[38;5;241m1\u001b[39m]\u001b[38;5;241m.\u001b[39mcoef_ \u001b[38;5;28;01mfor\u001b[39;00m estimator \u001b[38;5;129;01min\u001b[39;00m \u001b[43mcv_results_linear_model\u001b[49m[\u001b[38;5;124m\"\u001b[39m\u001b[38;5;124mestimator\u001b[39m\u001b[38;5;124m\"\u001b[39m]]\n\u001b[1;32m      4\u001b[0m coefs \u001b[38;5;241m=\u001b[39m pd\u001b[38;5;241m.\u001b[39mDataFrame(coefs, columns\u001b[38;5;241m=\u001b[39mdata_linear_model\u001b[38;5;241m.\u001b[39mcolumns)\n\u001b[1;32m      6\u001b[0m ax \u001b[38;5;241m=\u001b[39m coefs\u001b[38;5;241m.\u001b[39mplot\u001b[38;5;241m.\u001b[39mbox(vert\u001b[38;5;241m=\u001b[39m\u001b[38;5;28;01mFalse\u001b[39;00m)\n",
      "\u001b[0;31mNameError\u001b[0m: name 'cv_results_linear_model' is not defined"
     ]
    }
   ],
   "source": [
    "import matplotlib.pyplot as plt\n",
    "coefs = [\n",
    "    estimator[-1].coef_ for estimator in cv_results_linear_model[\"estimator\"]]\n",
    "coefs = pd.DataFrame(coefs, columns=data_linear_model.columns)\n",
    "\n",
    "ax = coefs.plot.box(vert=False)\n",
    "ax.axvline(0, -1, 1, linestyle=\"--\")\n",
    "_ = plt.title(\"Weights distribution of the linear model\")"
   ]
  },
  {
   "cell_type": "code",
   "execution_count": 4,
   "metadata": {},
   "outputs": [
    {
     "ename": "NameError",
     "evalue": "name 'ShuffleSplit' is not defined",
     "output_type": "error",
     "traceback": [
      "\u001b[0;31m---------------------------------------------------------------------------\u001b[0m",
      "\u001b[0;31mNameError\u001b[0m                                 Traceback (most recent call last)",
      "Cell \u001b[0;32mIn[4], line 7\u001b[0m\n\u001b[1;32m      1\u001b[0m \u001b[38;5;28;01mfrom\u001b[39;00m \u001b[38;5;21;01msklearn\u001b[39;00m\u001b[38;5;21;01m.\u001b[39;00m\u001b[38;5;21;01mensemble\u001b[39;00m \u001b[38;5;28;01mimport\u001b[39;00m HistGradientBoostingRegressor\n\u001b[1;32m      3\u001b[0m hgbdt \u001b[38;5;241m=\u001b[39m HistGradientBoostingRegressor(\n\u001b[1;32m      4\u001b[0m     max_iter\u001b[38;5;241m=\u001b[39m\u001b[38;5;241m1000\u001b[39m, early_stopping\u001b[38;5;241m=\u001b[39m\u001b[38;5;28;01mTrue\u001b[39;00m, random_state\u001b[38;5;241m=\u001b[39m\u001b[38;5;241m42\u001b[39m\n\u001b[1;32m      5\u001b[0m )\n\u001b[0;32m----> 7\u001b[0m cv \u001b[38;5;241m=\u001b[39m \u001b[43mShuffleSplit\u001b[49m(n_splits\u001b[38;5;241m=\u001b[39m\u001b[38;5;241m4\u001b[39m, random_state\u001b[38;5;241m=\u001b[39m\u001b[38;5;241m0\u001b[39m)\n\u001b[1;32m      8\u001b[0m cv_results_hgbdt \u001b[38;5;241m=\u001b[39m cross_validate(\n\u001b[1;32m      9\u001b[0m     hgbdt, data, target, cv\u001b[38;5;241m=\u001b[39mcv, scoring\u001b[38;5;241m=\u001b[39m\u001b[38;5;124m\"\u001b[39m\u001b[38;5;124mneg_mean_absolute_error\u001b[39m\u001b[38;5;124m\"\u001b[39m,\n\u001b[1;32m     10\u001b[0m     return_estimator\u001b[38;5;241m=\u001b[39m\u001b[38;5;28;01mTrue\u001b[39;00m, return_train_score\u001b[38;5;241m=\u001b[39m\u001b[38;5;28;01mTrue\u001b[39;00m, n_jobs\u001b[38;5;241m=\u001b[39m\u001b[38;5;241m2\u001b[39m)\n\u001b[1;32m     12\u001b[0m errors \u001b[38;5;241m=\u001b[39m \u001b[38;5;241m-\u001b[39mcv_results_hgbdt[\u001b[38;5;124m\"\u001b[39m\u001b[38;5;124mtest_score\u001b[39m\u001b[38;5;124m\"\u001b[39m]\n",
      "\u001b[0;31mNameError\u001b[0m: name 'ShuffleSplit' is not defined"
     ]
    }
   ],
   "source": [
    "from sklearn.ensemble import HistGradientBoostingRegressor\n",
    "\n",
    "hgbdt = HistGradientBoostingRegressor(\n",
    "    max_iter=1000, early_stopping=True, random_state=42\n",
    ")\n",
    "\n",
    "cv = ShuffleSplit(n_splits=4, random_state=0)\n",
    "cv_results_hgbdt = cross_validate(\n",
    "    hgbdt, data, target, cv=cv, scoring=\"neg_mean_absolute_error\",\n",
    "    return_estimator=True, return_train_score=True, n_jobs=2)\n",
    "\n",
    "errors = -cv_results_hgbdt[\"test_score\"]\n",
    "print(f\"MAE on test sets:\\n {errors}\\n\",\n",
    "      f\"mean +/- std: {errors.mean():.3f} +/- {errors.std():.3f} Watts\")"
   ]
  },
  {
   "cell_type": "code",
   "execution_count": 5,
   "metadata": {},
   "outputs": [
    {
     "ename": "NameError",
     "evalue": "name 'cv_results_linear_model' is not defined",
     "output_type": "error",
     "traceback": [
      "\u001b[0;31m---------------------------------------------------------------------------\u001b[0m",
      "\u001b[0;31mNameError\u001b[0m                                 Traceback (most recent call last)",
      "Cell \u001b[0;32mIn[5], line 1\u001b[0m\n\u001b[0;32m----> 1\u001b[0m errors_SS_lm \u001b[38;5;241m=\u001b[39m \u001b[38;5;241m-\u001b[39m\u001b[43mcv_results_linear_model\u001b[49m[\u001b[38;5;124m\"\u001b[39m\u001b[38;5;124mtrain_score\u001b[39m\u001b[38;5;124m\"\u001b[39m]\n\u001b[1;32m      2\u001b[0m \u001b[38;5;28mprint\u001b[39m(\u001b[38;5;124mf\u001b[39m\u001b[38;5;124m\"\u001b[39m\u001b[38;5;124mLinear model - MAE on train sets:\u001b[39m\u001b[38;5;130;01m\\t\u001b[39;00m\u001b[38;5;124m\"\u001b[39m,\n\u001b[1;32m      3\u001b[0m       \u001b[38;5;124mf\u001b[39m\u001b[38;5;124m\"\u001b[39m\u001b[38;5;132;01m{\u001b[39;00merrors_SS_lm\u001b[38;5;241m.\u001b[39mmean()\u001b[38;5;132;01m:\u001b[39;00m\u001b[38;5;124m.3f\u001b[39m\u001b[38;5;132;01m}\u001b[39;00m\u001b[38;5;124m +/- \u001b[39m\u001b[38;5;132;01m{\u001b[39;00merrors_SS_lm\u001b[38;5;241m.\u001b[39mstd()\u001b[38;5;132;01m:\u001b[39;00m\u001b[38;5;124m.3f\u001b[39m\u001b[38;5;132;01m}\u001b[39;00m\u001b[38;5;124m Watts\u001b[39m\u001b[38;5;124m\"\u001b[39m)\n\u001b[1;32m      4\u001b[0m errors_SS_lm \u001b[38;5;241m=\u001b[39m \u001b[38;5;241m-\u001b[39mcv_results_linear_model[\u001b[38;5;124m\"\u001b[39m\u001b[38;5;124mtest_score\u001b[39m\u001b[38;5;124m\"\u001b[39m]\n",
      "\u001b[0;31mNameError\u001b[0m: name 'cv_results_linear_model' is not defined"
     ]
    }
   ],
   "source": [
    "errors_SS_lm = -cv_results_linear_model[\"train_score\"]\n",
    "print(f\"Linear model - MAE on train sets:\\t\",\n",
    "      f\"{errors_SS_lm.mean():.3f} +/- {errors_SS_lm.std():.3f} Watts\")\n",
    "errors_SS_lm = -cv_results_linear_model[\"test_score\"]\n",
    "print(f\"Linear model - MAE on test sets:\\t\",\n",
    "      f\"{errors_SS_lm.mean():.3f} +/- {errors_SS_lm.std():.3f} Watts\")\n",
    "\n",
    "errors_SS_hgbdt = -cv_results_hgbdt[\"train_score\"]\n",
    "print(f\"Histogram GBDT - MAE on train sets:\\t\",\n",
    "      f\"{errors_SS_hgbdt.mean():.3f} +/- {errors_SS_hgbdt.std():.3f} Watts\")\n",
    "errors_SS_hgbdt = -cv_results_hgbdt[\"test_score\"]\n",
    "print(f\"Histogram GBDT - MAE on test sets:\\t\",\n",
    "      f\"{errors_SS_hgbdt.mean():.3f} +/- {errors_SS_hgbdt.std():.3f} Watts\")"
   ]
  },
  {
   "cell_type": "code",
   "execution_count": 6,
   "metadata": {},
   "outputs": [
    {
     "name": "stdout",
     "output_type": "stream",
     "text": [
      "There are 4 bike rides\n"
     ]
    }
   ],
   "source": [
    "import numpy as np\n",
    "\n",
    "unique_ride_dates = np.unique(cycling.index.date)\n",
    "print(f\"There are {len(unique_ride_dates)} bike rides\")"
   ]
  },
  {
   "cell_type": "code",
   "execution_count": 7,
   "metadata": {},
   "outputs": [
    {
     "ename": "NameError",
     "evalue": "name 'cross_validate' is not defined",
     "output_type": "error",
     "traceback": [
      "\u001b[0;31m---------------------------------------------------------------------------\u001b[0m",
      "\u001b[0;31mNameError\u001b[0m                                 Traceback (most recent call last)",
      "Cell \u001b[0;32mIn[7], line 6\u001b[0m\n\u001b[1;32m      3\u001b[0m groups, _ \u001b[38;5;241m=\u001b[39m pd\u001b[38;5;241m.\u001b[39mfactorize(data_linear_model\u001b[38;5;241m.\u001b[39mindex\u001b[38;5;241m.\u001b[39mdate)\n\u001b[1;32m      4\u001b[0m cv \u001b[38;5;241m=\u001b[39m LeaveOneGroupOut()\n\u001b[0;32m----> 6\u001b[0m cv_results_linear_model \u001b[38;5;241m=\u001b[39m \u001b[43mcross_validate\u001b[49m(\n\u001b[1;32m      7\u001b[0m     linear_model, data_linear_model, target, groups\u001b[38;5;241m=\u001b[39mgroups, cv\u001b[38;5;241m=\u001b[39mcv,\n\u001b[1;32m      8\u001b[0m     scoring\u001b[38;5;241m=\u001b[39m\u001b[38;5;124m\"\u001b[39m\u001b[38;5;124mneg_mean_absolute_error\u001b[39m\u001b[38;5;124m\"\u001b[39m, return_estimator\u001b[38;5;241m=\u001b[39m\u001b[38;5;28;01mTrue\u001b[39;00m,\n\u001b[1;32m      9\u001b[0m     return_train_score\u001b[38;5;241m=\u001b[39m\u001b[38;5;28;01mTrue\u001b[39;00m, n_jobs\u001b[38;5;241m=\u001b[39m\u001b[38;5;241m2\u001b[39m)\n\u001b[1;32m     10\u001b[0m cv_results_hgbdt \u001b[38;5;241m=\u001b[39m cross_validate(\n\u001b[1;32m     11\u001b[0m     hgbdt, data, target, groups\u001b[38;5;241m=\u001b[39mgroups, cv\u001b[38;5;241m=\u001b[39mcv,\n\u001b[1;32m     12\u001b[0m     scoring\u001b[38;5;241m=\u001b[39m\u001b[38;5;124m\"\u001b[39m\u001b[38;5;124mneg_mean_absolute_error\u001b[39m\u001b[38;5;124m\"\u001b[39m, return_estimator\u001b[38;5;241m=\u001b[39m\u001b[38;5;28;01mTrue\u001b[39;00m,\n\u001b[1;32m     13\u001b[0m     return_train_score\u001b[38;5;241m=\u001b[39m\u001b[38;5;28;01mTrue\u001b[39;00m, n_jobs\u001b[38;5;241m=\u001b[39m\u001b[38;5;241m2\u001b[39m)\n\u001b[1;32m     15\u001b[0m errors_LOGO_lm \u001b[38;5;241m=\u001b[39m \u001b[38;5;241m-\u001b[39mcv_results_linear_model[\u001b[38;5;124m\"\u001b[39m\u001b[38;5;124mtrain_score\u001b[39m\u001b[38;5;124m\"\u001b[39m]\n",
      "\u001b[0;31mNameError\u001b[0m: name 'cross_validate' is not defined"
     ]
    }
   ],
   "source": [
    "from sklearn.model_selection import LeaveOneGroupOut\n",
    "\n",
    "groups, _ = pd.factorize(data_linear_model.index.date)\n",
    "cv = LeaveOneGroupOut()\n",
    "\n",
    "cv_results_linear_model = cross_validate(\n",
    "    linear_model, data_linear_model, target, groups=groups, cv=cv,\n",
    "    scoring=\"neg_mean_absolute_error\", return_estimator=True,\n",
    "    return_train_score=True, n_jobs=2)\n",
    "cv_results_hgbdt = cross_validate(\n",
    "    hgbdt, data, target, groups=groups, cv=cv,\n",
    "    scoring=\"neg_mean_absolute_error\", return_estimator=True,\n",
    "    return_train_score=True, n_jobs=2)\n",
    "\n",
    "errors_LOGO_lm = -cv_results_linear_model[\"train_score\"]\n",
    "print(f\"Linear model - MAE on train sets:\\t\",\n",
    "      f\"{errors_LOGO_lm.mean():.3f} +/- {errors_LOGO_lm.std():.3f} Watts\")\n",
    "errors_LOGO_lm = -cv_results_linear_model[\"test_score\"]\n",
    "print(f\"Linear model - MAE on test sets:\\t\",\n",
    "      f\"{errors_LOGO_lm.mean():.3f} +/- {errors_LOGO_lm.std():.3f} Watts\")\n",
    "\n",
    "errors_LOGO_hgbdt = -cv_results_hgbdt[\"train_score\"]\n",
    "print(f\"Histogram GBDT - MAE on train sets:\\t\",\n",
    "      f\"{errors_LOGO_hgbdt.mean():.3f} +/- {errors_LOGO_hgbdt.std():.3f} Watts\")\n",
    "errors_LOGO_hgbdt = -cv_results_hgbdt[\"test_score\"]\n",
    "print(f\"Histogram GBDT - MAE on test sets:\\t\",\n",
    "      f\"{errors_LOGO_hgbdt.mean():.3f} +/- {errors_LOGO_hgbdt.std():.3f} Watts\")"
   ]
  },
  {
   "cell_type": "code",
   "execution_count": 8,
   "metadata": {},
   "outputs": [
    {
     "ename": "NameError",
     "evalue": "name 'errors_LOGO_lm' is not defined",
     "output_type": "error",
     "traceback": [
      "\u001b[0;31m---------------------------------------------------------------------------\u001b[0m",
      "\u001b[0;31mNameError\u001b[0m                                 Traceback (most recent call last)",
      "Cell \u001b[0;32mIn[8], line 3\u001b[0m\n\u001b[1;32m      1\u001b[0m \u001b[38;5;28mprint\u001b[39m(\n\u001b[1;32m      2\u001b[0m     \u001b[38;5;124m\"\u001b[39m\u001b[38;5;124mLM with LeaveOneGroupOut has a bigger test error than LM with ShuffleSplit by \u001b[39m\u001b[38;5;124m\"\u001b[39m\n\u001b[0;32m----> 3\u001b[0m     \u001b[38;5;124mf\u001b[39m\u001b[38;5;124m\"\u001b[39m\u001b[38;5;132;01m{\u001b[39;00m\u001b[43merrors_LOGO_lm\u001b[49m\u001b[38;5;241m.\u001b[39mmean()\u001b[38;5;250m \u001b[39m\u001b[38;5;241m-\u001b[39m\u001b[38;5;250m \u001b[39merrors_SS_lm\u001b[38;5;241m.\u001b[39mmean()\u001b[38;5;132;01m}\u001b[39;00m\u001b[38;5;124m\"\u001b[39m\n\u001b[1;32m      4\u001b[0m     \u001b[38;5;124m\"\u001b[39m\u001b[38;5;124m Watts.\u001b[39m\u001b[38;5;124m\"\u001b[39m\n\u001b[1;32m      5\u001b[0m )\n",
      "\u001b[0;31mNameError\u001b[0m: name 'errors_LOGO_lm' is not defined"
     ]
    }
   ],
   "source": [
    "print(\n",
    "    \"LM with LeaveOneGroupOut has a bigger test error than LM with ShuffleSplit by \"\n",
    "    f\"{errors_LOGO_lm.mean() - errors_SS_lm.mean()}\"\n",
    "    \" Watts.\"\n",
    ")"
   ]
  },
  {
   "cell_type": "code",
   "execution_count": 9,
   "metadata": {},
   "outputs": [
    {
     "ename": "NameError",
     "evalue": "name 'errors_LOGO_hgbdt' is not defined",
     "output_type": "error",
     "traceback": [
      "\u001b[0;31m---------------------------------------------------------------------------\u001b[0m",
      "\u001b[0;31mNameError\u001b[0m                                 Traceback (most recent call last)",
      "Cell \u001b[0;32mIn[9], line 3\u001b[0m\n\u001b[1;32m      1\u001b[0m \u001b[38;5;28mprint\u001b[39m(\n\u001b[1;32m      2\u001b[0m     \u001b[38;5;124m\"\u001b[39m\u001b[38;5;124mHGBDT with LeaveOneGroupOut has a bigger test error than HGBDT with ShuffleSplit by \u001b[39m\u001b[38;5;124m\"\u001b[39m\n\u001b[0;32m----> 3\u001b[0m     \u001b[38;5;124mf\u001b[39m\u001b[38;5;124m\"\u001b[39m\u001b[38;5;132;01m{\u001b[39;00m\u001b[43merrors_LOGO_hgbdt\u001b[49m\u001b[38;5;241m.\u001b[39mmean()\u001b[38;5;250m \u001b[39m\u001b[38;5;241m-\u001b[39m\u001b[38;5;250m \u001b[39merrors_SS_hgbdt\u001b[38;5;241m.\u001b[39mmean()\u001b[38;5;132;01m}\u001b[39;00m\u001b[38;5;124m\"\u001b[39m\n\u001b[1;32m      4\u001b[0m     \u001b[38;5;124m\"\u001b[39m\u001b[38;5;124m Watts.\u001b[39m\u001b[38;5;124m\"\u001b[39m\n\u001b[1;32m      5\u001b[0m )\n",
      "\u001b[0;31mNameError\u001b[0m: name 'errors_LOGO_hgbdt' is not defined"
     ]
    }
   ],
   "source": [
    "print(\n",
    "    \"HGBDT with LeaveOneGroupOut has a bigger test error than HGBDT with ShuffleSplit by \"\n",
    "    f\"{errors_LOGO_hgbdt.mean() - errors_SS_hgbdt.mean()}\"\n",
    "    \" Watts.\"\n",
    ")"
   ]
  },
  {
   "cell_type": "code",
   "execution_count": 10,
   "metadata": {},
   "outputs": [
    {
     "ename": "NameError",
     "evalue": "name 'linear_model' is not defined",
     "output_type": "error",
     "traceback": [
      "\u001b[0;31m---------------------------------------------------------------------------\u001b[0m",
      "\u001b[0;31mNameError\u001b[0m                                 Traceback (most recent call last)",
      "Cell \u001b[0;32mIn[10], line 4\u001b[0m\n\u001b[1;32m      1\u001b[0m \u001b[38;5;28;01mfrom\u001b[39;00m \u001b[38;5;21;01msklearn\u001b[39;00m\u001b[38;5;21;01m.\u001b[39;00m\u001b[38;5;21;01mmetrics\u001b[39;00m \u001b[38;5;28;01mimport\u001b[39;00m mean_absolute_error\n\u001b[1;32m      3\u001b[0m \u001b[38;5;66;03m# fit models and collect predictions\u001b[39;00m\n\u001b[0;32m----> 4\u001b[0m \u001b[43mlinear_model\u001b[49m\u001b[38;5;241m.\u001b[39mfit(data_linear_model_train, target_train)\n\u001b[1;32m      5\u001b[0m target_predicted_linear_model \u001b[38;5;241m=\u001b[39m linear_model\u001b[38;5;241m.\u001b[39mpredict(data_linear_model_test)\n\u001b[1;32m      7\u001b[0m hgbdt\u001b[38;5;241m.\u001b[39mfit(data_train, target_train)\n",
      "\u001b[0;31mNameError\u001b[0m: name 'linear_model' is not defined"
     ]
    }
   ],
   "source": [
    "from sklearn.metrics import mean_absolute_error\n",
    "\n",
    "# fit models and collect predictions\n",
    "linear_model.fit(data_linear_model_train, target_train)\n",
    "target_predicted_linear_model = linear_model.predict(data_linear_model_test)\n",
    "\n",
    "hgbdt.fit(data_train, target_train)\n",
    "target_predicted_hgbdt = hgbdt.predict(data_test)\n",
    "\n",
    "# compute errors\n",
    "mae_linear_model = mean_absolute_error(target_test,\n",
    "                                       target_predicted_linear_model)\n",
    "mae_hgbdt = mean_absolute_error(target_test, target_predicted_hgbdt)\n",
    "\n",
    "# make regression plots\n",
    "plt.figure(figsize=(6, 6))\n",
    "plt.scatter(target_test, target_predicted_linear_model, alpha=0.1)\n",
    "plt.plot([0, 800], [0, 800], color=\"black\", linestyle=\"--\",\n",
    "         label=\"Perfect fit\")\n",
    "plt.legend()\n",
    "plt.axis(\"square\")\n",
    "plt.xlabel(\"Measured power (Watts)\")\n",
    "plt.ylabel(\"Predicted power (Watts)\")\n",
    "plt.xlim(-300, 1000)\n",
    "plt.ylim(-300, 1000)\n",
    "_ = plt.title(f\"Regression plot for linear model\\n \"\n",
    "              f\"MAE={mae_linear_model:.1f} Watts\")\n",
    "\n",
    "plt.figure(figsize=(6, 6))\n",
    "plt.scatter(target_test, target_predicted_hgbdt, alpha=0.1)\n",
    "plt.plot([0, 800], [0, 800], color=\"black\", linestyle=\"--\",\n",
    "         label=\"Perfect fit\")\n",
    "plt.legend()\n",
    "plt.axis(\"square\")\n",
    "plt.xlabel(\"Measured power (Watts)\")\n",
    "plt.ylabel(\"Predicted power (Watts)\")\n",
    "plt.xlim(-300, 1000)\n",
    "plt.ylim(-300, 1000)\n",
    "_ = plt.title(f\"Regression plot for Histogram GBDT\\n\"\n",
    "              f\"MAE={mae_hgbdt:.1f} Watts\")"
   ]
  },
  {
   "cell_type": "code",
   "execution_count": 11,
   "metadata": {},
   "outputs": [
    {
     "ename": "NameError",
     "evalue": "name 'data_linear_model_test' is not defined",
     "output_type": "error",
     "traceback": [
      "\u001b[0;31m---------------------------------------------------------------------------\u001b[0m",
      "\u001b[0;31mNameError\u001b[0m                                 Traceback (most recent call last)",
      "Cell \u001b[0;32mIn[11], line 4\u001b[0m\n\u001b[1;32m      1\u001b[0m \u001b[38;5;66;03m# extract the data and make the prediction\u001b[39;00m\n\u001b[1;32m      2\u001b[0m time_slice \u001b[38;5;241m=\u001b[39m \u001b[38;5;28mslice\u001b[39m(\u001b[38;5;124m\"\u001b[39m\u001b[38;5;124m2020-08-18 17:00:00\u001b[39m\u001b[38;5;124m\"\u001b[39m, \u001b[38;5;124m\"\u001b[39m\u001b[38;5;124m2020-08-18 17:05:00\u001b[39m\u001b[38;5;124m\"\u001b[39m)\n\u001b[0;32m----> 4\u001b[0m data_test_linear_model_subset \u001b[38;5;241m=\u001b[39m \u001b[43mdata_linear_model_test\u001b[49m[time_slice]\n\u001b[1;32m      5\u001b[0m data_test_subset \u001b[38;5;241m=\u001b[39m data_test[time_slice]\n\u001b[1;32m      6\u001b[0m target_test_subset \u001b[38;5;241m=\u001b[39m target_test[time_slice]\n",
      "\u001b[0;31mNameError\u001b[0m: name 'data_linear_model_test' is not defined"
     ]
    }
   ],
   "source": [
    "# extract the data and make the prediction\n",
    "time_slice = slice(\"2020-08-18 17:00:00\", \"2020-08-18 17:05:00\")\n",
    "\n",
    "data_test_linear_model_subset = data_linear_model_test[time_slice]\n",
    "data_test_subset = data_test[time_slice]\n",
    "target_test_subset = target_test[time_slice]\n",
    "\n",
    "target_predicted_linear_model = linear_model.predict(\n",
    "    data_test_linear_model_subset)\n",
    "target_predicted_hgbdt = hgbdt.predict(data_test_subset)\n",
    "\n",
    "# make the plot\n",
    "ax = target_test_subset.plot(label=\"True target\", figsize=(10, 6))\n",
    "ax.plot(target_test_subset.index, target_predicted_linear_model,\n",
    "        label=\"Linear model\")\n",
    "ax.plot(target_test_subset.index, target_predicted_hgbdt, label=\"HGBDT model\")\n",
    "ax.set_ylabel(\"Power (Watts)\")\n",
    "plt.legend()\n",
    "\n",
    "# In addition, we add the elevation to show that the data were acquired in a\n",
    "# hill. This part of the answer was optional.\n",
    "ax_elevation = ax.twinx()\n",
    "ax_elevation.plot(target_test_subset.index, data_test_subset[\"slope\"].cumsum(),\n",
    "                  color=\"tab:red\", linestyle=\"--\")\n",
    "ax_elevation.set_ylabel(\"Elevation (m)\")\n",
    "\n",
    "_ = plt.title(\"Comparison of the true target and models' predictions\")"
   ]
  },
  {
   "cell_type": "code",
   "execution_count": null,
   "metadata": {},
   "outputs": [],
   "source": []
  },
  {
   "cell_type": "code",
   "execution_count": null,
   "metadata": {},
   "outputs": [],
   "source": []
  }
 ],
 "metadata": {
  "kernelspec": {
   "display_name": "Python 3 (ipykernel)",
   "language": "python",
   "name": "python3"
  },
  "language_info": {
   "codemirror_mode": {
    "name": "ipython",
    "version": 3
   },
   "file_extension": ".py",
   "mimetype": "text/x-python",
   "name": "python",
   "nbconvert_exporter": "python",
   "pygments_lexer": "ipython3",
   "version": "3.11.4"
  }
 },
 "nbformat": 4,
 "nbformat_minor": 4
}
